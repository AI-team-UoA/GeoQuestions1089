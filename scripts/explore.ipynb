{
 "cells": [
  {
   "cell_type": "markdown",
   "metadata": {},
   "source": [
    "## GeoQuestions1089 v1.1\n",
    "\n",
    "GeoQuestions1089 is a geospatial question-answering dataset containing 1089 triples of geospatial questions, their answers, and the corresponding SPARQL/GeoSPARQL queries targetting YAGO2geo. GeoQuestions1089 is currently the largest geospatial QA benchmark and it is made freely available to the research community.\n",
    "\n",
    "### Version 1.1 Improvements\n",
    "\n",
    "Version 1.1 includes several enhancements:\n",
    "- Uniform query format and variable naming\n",
    "- Fixes in natural language capitalization\n",
    "- Corrections in query categorization\n",
    "- Replacement of stSPARQL functions with GeoSPARQL functions where applicable\n",
    "- Minor improvements in query correctness\n",
    "\n",
    "These updates ensure greater consistency and accuracy in the dataset, making it a more reliable resource for geospatial QA research."
   ]
  },
  {
   "cell_type": "markdown",
   "metadata": {},
   "source": [
    "### Packages"
   ]
  },
  {
   "cell_type": "code",
   "execution_count": 2,
   "metadata": {},
   "outputs": [],
   "source": [
    "import json\n",
    "import subprocess\n",
    "import pandas as pd\n",
    "\n",
    "from tqdm import tqdm\n",
    "from collections import OrderedDict"
   ]
  },
  {
   "cell_type": "markdown",
   "metadata": {},
   "source": [
    "### Prefixes"
   ]
  },
  {
   "cell_type": "code",
   "execution_count": 33,
   "metadata": {},
   "outputs": [],
   "source": [
    "PREFIXES = \"\"\"PREFIX geo: <http://www.opengis.net/ont/geosparql#>\n",
    "PREFIX geof: <http://www.opengis.net/def/function/geosparql/>\n",
    "PREFIX rdf: <http://www.w3.org/1999/02/22-rdf-syntax-ns#>\n",
    "PREFIX rdfs: <http://www.w3.org/2000/01/rdf-schema#>\n",
    "PREFIX xsd: <http://www.w3.org/2001/XMLSchema#>\n",
    "PREFIX yago: <http://yago-knowledge.org/resource/>\n",
    "PREFIX y2geor: <http://kr.di.uoa.gr/yago2geo/resource/>\n",
    "PREFIX y2geoo: <http://kr.di.uoa.gr/yago2geo/ontology/>\n",
    "PREFIX strdf: <http://strdf.di.uoa.gr/ontology#>\n",
    "PREFIX uom: <http://www.opengis.net/def/uom/OGC/1.0/>\n",
    "\"\"\""
   ]
  },
  {
   "cell_type": "markdown",
   "metadata": {},
   "source": [
    "### Materialization helper"
   ]
  },
  {
   "cell_type": "code",
   "execution_count": 34,
   "metadata": {},
   "outputs": [],
   "source": [
    "GOST_EXECUTABLE = \"../GoST/GoST-1.0-SNAPSHOT.jar\"\n",
    "def gost_materialize_query(query: str) -> str:\n",
    "    \"\"\"\n",
    "    Replaces expensive geospatial functions with their materialized triple equivalents.\n",
    "    Also prepends the list of PREFIXES to the query given.\n",
    "    \n",
    "    Return:\n",
    "        A materialized query as a string, if the given query is valid.\n",
    "        \n",
    "        An empty string, if the given query is invalid.        \n",
    "    \"\"\"\n",
    "    result = subprocess.run([\"java\", \"-cp\", GOST_EXECUTABLE, \"gr.uoa.di.ai.Transpiler\", PREFIXES + query], capture_output=True)\n",
    "    return result.stdout.decode(\"utf-8\") # convert to string"
   ]
  },
  {
   "cell_type": "markdown",
   "metadata": {},
   "source": [
    "### Categories"
   ]
  },
  {
   "cell_type": "code",
   "execution_count": 39,
   "metadata": {},
   "outputs": [
    {
     "name": "stdout",
     "output_type": "stream",
     "text": [
      "GeoQuestions1089_c:\n",
      "\t OrderedDict([('A', 173), ('B', 139), ('C', 176), ('D', 22), ('E', 138), ('F', 24), ('G', 174), ('H', 145), ('I', 26)])\n",
      "GeoQuestions1089_w:\n",
      "\t OrderedDict([('A', 16), ('B', 11), ('C', 14), ('D', 1), ('E', 6), ('F', 2), ('G', 11), ('H', 9), ('I', 2)])\n"
     ]
    }
   ],
   "source": [
    "categories = OrderedDict()\n",
    "\n",
    "# GeoQuestions1089_c\n",
    "for key in ['A', 'B', 'C', 'D', 'E', 'F', 'G', 'H', 'I']:\n",
    "    categories[key] = 0\n",
    "with open('../GeoQuestions1089.json') as geoq:\n",
    "    data = json.load(geoq)\n",
    "    for i in range(1, 1018):\n",
    "        category = data[str(i)]['Category']\n",
    "        categories[category] += 1\n",
    "print(\"GeoQuestions1089_c:\\n\\t\", categories)\n",
    "\n",
    "# GeoQuestions1089_w\n",
    "for key in ['A', 'B', 'C', 'D', 'E', 'F', 'G', 'H', 'I']:\n",
    "    categories[key] = 0\n",
    "with open('../GeoQuestions1089.json') as geoq:\n",
    "    data = json.load(geoq)\n",
    "    for i in range(1018, 1090):\n",
    "        category_same_as = data[str(i)]['Category'].split(':')[1]\n",
    "        category = data[category_same_as]['Category']\n",
    "        categories[category] += 1\n",
    "print(\"GeoQuestions1089_w:\\n\\t\", categories)"
   ]
  },
  {
   "cell_type": "markdown",
   "metadata": {},
   "source": [
    "### Check query validity"
   ]
  },
  {
   "cell_type": "code",
   "execution_count": 40,
   "metadata": {},
   "outputs": [
    {
     "name": "stderr",
     "output_type": "stream",
     "text": [
      "100%|██████████| 1017/1017 [06:07<00:00,  2.77it/s]\n"
     ]
    }
   ],
   "source": [
    "valid_query = \"SELECT * WHERE { ?s ?p ?o }\"\n",
    "invalid_query = \"SELECT * WHERE { ?s ?p \"\n",
    "\n",
    "assert gost_materialize_query(valid_query) != ''\n",
    "assert gost_materialize_query(invalid_query) == ''\n",
    "\n",
    "# Check the validity of queries 1-1017.\n",
    "with open('../GeoQuestions1089.json') as geoq:\n",
    "    data = json.load(geoq)\n",
    "    for i in tqdm(range(1, 1018)):\n",
    "        query = data[str(i)]['Query']\n",
    "        materialized = gost_materialize_query(query)\n",
    "        if materialized == '':\n",
    "            print(\"Invalid query:\", i)\n",
    "\n",
    "# Queries 1018-1089 refer to the previous queries, see the dataset file."
   ]
  },
  {
   "cell_type": "markdown",
   "metadata": {},
   "source": [
    "### Export CSV file"
   ]
  },
  {
   "cell_type": "code",
   "execution_count": 14,
   "metadata": {},
   "outputs": [
    {
     "name": "stderr",
     "output_type": "stream",
     "text": [
      "100%|██████████| 1089/1089 [00:00<00:00, 822249.70it/s]\n"
     ]
    }
   ],
   "source": [
    "with open('../GeoQuestions1089.json') as geoq:\n",
    "    data = json.load(geoq)\n",
    "with open('../GeoQuestions1089_answers.json') as geoq_answers:\n",
    "    data_answers = json.load(geoq_answers)\n",
    "    \n",
    "questions = []\n",
    "queries = []\n",
    "answers = []\n",
    "for i in tqdm(range(1, 1090)):\n",
    "    questions.append(data[str(i)]['Question'])\n",
    "    queries.append(data[str(i)]['Query'])\n",
    "    answers.append(data_answers[str(i)])\n",
    "    \n",
    "df = pd.DataFrame({\"Question\": questions, \"Query\": queries, \"Answer\": answers})\n",
    "df.to_csv('../GeoQuestions1089.csv', index=False)"
   ]
  }
 ],
 "metadata": {
  "kernelspec": {
   "display_name": "base",
   "language": "python",
   "name": "python3"
  },
  "language_info": {
   "codemirror_mode": {
    "name": "ipython",
    "version": 3
   },
   "file_extension": ".py",
   "mimetype": "text/x-python",
   "name": "python",
   "nbconvert_exporter": "python",
   "pygments_lexer": "ipython3",
   "version": "3.9.13"
  }
 },
 "nbformat": 4,
 "nbformat_minor": 2
}
